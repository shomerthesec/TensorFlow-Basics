{
 "cells": [
  {
   "cell_type": "markdown",
   "metadata": {
    "colab_type": "text",
    "id": "iQjHqsmTAVLU"
   },
   "source": [
    "## Exercise 3\n",
    "In the videos you looked at how you would improve Fashion MNIST using Convolutions. For your exercise see if you can improve MNIST to 99.8% accuracy or more using only a single convolutional layer and a single MaxPooling 2D. You should stop training once the accuracy goes above this amount. It should happen in less than 20 epochs, so it's ok to hard code the number of epochs for training, but your training must end once it hits the above metric. If it doesn't, then you'll need to redesign your layers.\n",
    "\n",
    "I've started the code for you -- you need to finish it!\n",
    "\n",
    "When 99.8% accuracy has been hit, you should print out the string \"Reached 99.8% accuracy so cancelling training!\"\n"
   ]
  },
  {
   "cell_type": "code",
   "execution_count": 1,
   "metadata": {
    "ExecuteTime": {
     "end_time": "2020-06-23T16:16:40.118766Z",
     "start_time": "2020-06-23T16:16:31.905052Z"
    }
   },
   "outputs": [],
   "source": [
    "import tensorflow as tf\n",
    "from os import path, getcwd, chdir\n",
    "\n",
    "# DO NOT CHANGE THE LINE BELOW. If you are developing in a local\n",
    "# environment, then grab mnist.npz from the Coursera Jupyter Notebook\n",
    "# and place it inside a local folder and edit the path to that location\n",
    "path = f\"{getcwd()}/../tmp2/mnist.npz\""
   ]
  },
  {
   "cell_type": "code",
   "execution_count": 2,
   "metadata": {
    "ExecuteTime": {
     "end_time": "2020-06-23T16:16:40.214729Z",
     "start_time": "2020-06-23T16:16:40.144761Z"
    }
   },
   "outputs": [],
   "source": [
    "config = tf.ConfigProto()\n",
    "config.gpu_options.allow_growth = True\n",
    "sess = tf.Session(config=config)"
   ]
  },
  {
   "cell_type": "code",
   "execution_count": 58,
   "metadata": {
    "ExecuteTime": {
     "end_time": "2020-06-23T21:46:49.240780Z",
     "start_time": "2020-06-23T21:46:49.220788Z"
    }
   },
   "outputs": [],
   "source": [
    "# GRADED FUNCTION: train_mnist_conv\n",
    "def train_mnist_conv():\n",
    "    # Please write your code only where you are indicated.\n",
    "    # please do not remove model fitting inline comments.\n",
    "\n",
    "    # YOUR CODE STARTS HERE\n",
    "    class cback(tf.keras.callbacks.Callback):\n",
    "        def on_epoch_end(self, epochs , log={}):\n",
    "            if log.get('acc') >= 0.9880 :\n",
    "                print('Reached 98.8% accuracy so cancelling training!')\n",
    "                model.stop_training=True\n",
    "\n",
    "    cb=cback()\n",
    "    # YOUR CODE ENDS HERE\n",
    "\n",
    "    mnist = tf.keras.datasets.mnist\n",
    "    (training_images, training_labels), (test_images, test_labels) = mnist.load_data(path=path)\n",
    "    # YOUR CODE STARTS HERE\n",
    "    training_images=training_images/255.0 \n",
    "    test_images=test_images/255.0 \n",
    "    training_images=training_images.reshape((60000,28,28,1))\n",
    "    test_images=test_images.reshape((10000,28,28,1))\n",
    "    # YOUR CODE ENDS HERE\n",
    "\n",
    "    model = tf.keras.models.Sequential([\n",
    "            # YOUR CODE STARTS HERE\n",
    "        tf.keras.layers.Conv2D(32, (2,2), padding='same', activation='relu',input_shape=(28,28,1)),\n",
    "        tf.keras.layers.MaxPooling2D((2,2), strides=2),\n",
    "        tf.keras.layers.Flatten(),\n",
    "        tf.keras.layers.Dense(128,activation='relu'),\n",
    "        tf.keras.layers.Dense(10, activation='softmax')\n",
    "            # YOUR CODE ENDS HERE\n",
    "    ])\n",
    "\n",
    "    model.compile(optimizer='adam', loss='sparse_categorical_crossentropy', metrics=['accuracy'])\n",
    "    # model fitting\n",
    "    history = model.fit(\n",
    "        # YOUR CODE STARTS HERE\n",
    "    training_images, training_labels , epochs = 20 ,batch_size=5 , callbacks=[cb]\n",
    "        # YOUR CODE ENDS HERE\n",
    "    )\n",
    "    # model fitting\n",
    "    return history.epoch, history.history['acc'][-1]\n",
    "\n"
   ]
  },
  {
   "cell_type": "code",
   "execution_count": 57,
   "metadata": {
    "ExecuteTime": {
     "end_time": "2020-06-23T21:43:39.324884Z",
     "start_time": "2020-06-23T21:40:28.523852Z"
    }
   },
   "outputs": [
    {
     "name": "stdout",
     "output_type": "stream",
     "text": [
      "Epoch 1/20\n",
      "59985/60000 [============================>.] - ETA: 0s - loss: 0.1418 - acc: 0.9576  - ETA: 3:14 - loss: 0.5707 - acc: 0. - ETA: 3:14 - ETA: 3:08 - loss: 0 - ETA: 3:01  - ETA: 2:58 - ETA: 2:55 - loss: 0.4168 - - ETA: 2:54 - loss: 0.4109 - acc: 0. - ETA: 2:53 - loss: 0.4081 - acc: 0.8 - ETA: 2:53 - loss: 0.4052 - acc: 0.879 - ETA: 2:53 - loss - ETA: 2:51 - loss: 0.3937 - acc: 0.8 - ETA: 2:51 - loss:  - ETA: 2:49 - loss: 0.3858 - acc: 0.8 - ETA: 2:49 - loss:  - ETA: 2:47 - loss: 0.371 - - ETA: 2:43 - loss: 0.3502 - acc: 0. - ETA: -  - ETA: 2: - ETA: 2:35 - loss: 0.3115 - acc: 0. - ETA: 2:35 - loss: 0.3102 - - ETA: 2:34 - loss: 0.3090 - acc:  - ETA: 2:3 - ETA: 2:32 - loss: 0.3006 - acc: 0 - ETA: 2:31 - loss:  - ETA: 2:30 - loss: 0.2953 - acc: 0.91 - ETA: - ETA: 2:28 - loss: 0.2884 - ETA: 2:27 - loss: 0.2859 - acc: 0.913 - ETA: 2:27 - loss: 0.2857 - acc: 0.91 - ETA: 2:26 - loss: 0.2853 - ac - ETA: 2:26 - loss: 0.2840 - ac - ETA: 2:25  - ETA: 2:23 - loss: 0.2761 - acc: 0.916 - ETA: 2:23 - loss: 0.2760 - acc: 0.9 - ETA: 2:23 - loss: 0.2751 - ac - ETA: 2:23 - loss: 0.2741 - acc: 0.9 - ETA: 2:22 - loss:  - ETA: 2:18 - loss: - ETA: 2:1 - ETA: 2:10 - loss: 0.2473 - a - ETA: 2:10 - loss: 0.2457 - acc: 0.92 - ETA: 2:10 - loss: 0.2456 - a - ETA: 2:09 - loss: 0.2444 - acc: 0.9 - ETA: 2:09 - loss: 0. - ETA: 2:08 - loss: 0. - ETA: 2:06 - loss: 0.2419 - acc: 0.9 - ETA: 2:06 - loss: 0.2415 -  - ETA: 2:06 - loss: 0.2 - E - ETA: 2:02 - loss: 0.233 - ETA: 2:01 -  - ETA: 2:01 - loss: 0.2304  - ETA: 2:00 - loss: 0.22  - ETA: 1:52 - loss: 0.2177 - acc: 0.9 - ETA: 1:51 - loss: 0.2172 - acc:  - ETA: 1:51 - loss: 0.2166 -  - ET - ETA: 1:45 - loss: 0.2097 -  - ETA: 1:45 - loss: 0.2090 - - ETA: 1:44 - loss: 0.2078 - acc: 0.938 - ETA: 1:44 - loss: 0.2079 - a - ETA: 1:43 - loss: 0.2071 - acc: 0.938 - ETA: 1:43 - loss: 0.2071 - acc:  - ETA: 1:43 - loss: 0.2066 - acc: 0.9 - ETA: 1:43 - loss: 0.2063  - ETA: 1 - ETA: 1:35 - loss: 0.1981 - acc: 0.9 - ETA: 1:34 - loss: 0.1978 - ETA: 1:34 - loss: 0.1971 - - ETA: - ETA: 1:31 - loss: 0.1940 - acc: 0.94 - ETA: 1:30 - loss: 0.1938 - acc: 0. - ETA: 1:30 - loss: 0.19 - ETA: 1:29 - loss: 0.1923 - acc: 0 - ETA: 1:29 - loss: 0.1 - ETA: 1:28 - loss: 0.19 - ETA: 16s - loss: 0.1486 - a - ETA: 16s - loss: 0.1484 - acc: 0.95 - ETA: 16s - los - ETA: 8s - loss: 0.145 - ETA: 7s - loss: 0.1448  - ETA: 6s - loss: 0.1444 - acc: 0.9 - ETA: 6s - loss: 0.1442 - acc:  - ETA: 6s - loss: 0.1442 - acc:  - ETA: 5s - ETA: 1s -  - ETA: 0s - loss: 0.1418 - acc: 0.957 - ETA: 0s - loss: 0.1417 - acc: 0.9576Reached 93.8% accuracy so cancelling training!\n",
      "60000/60000 [==============================] - 187s 3ms/sample - loss: 0.1418 - acc: 0.9576\n"
     ]
    }
   ],
   "source": [
    "_, _ = train_mnist_conv()"
   ]
  },
  {
   "cell_type": "code",
   "execution_count": null,
   "metadata": {
    "ExecuteTime": {
     "end_time": "2020-06-23T16:27:28.626636Z",
     "start_time": "2020-06-23T16:27:28.040Z"
    }
   },
   "outputs": [],
   "source": [
    "# Now click the 'Submit Assignment' button above.\n",
    "# Once that is complete, please run the following two cells to save your work and close the notebook"
   ]
  },
  {
   "cell_type": "code",
   "execution_count": null,
   "metadata": {},
   "outputs": [],
   "source": [
    "%%javascript\n",
    "<!-- Save the notebook -->\n",
    "IPython.notebook.save_checkpoint();"
   ]
  },
  {
   "cell_type": "code",
   "execution_count": null,
   "metadata": {},
   "outputs": [],
   "source": [
    "%%javascript\n",
    "IPython.notebook.session.delete();\n",
    "window.onbeforeunload = null\n",
    "setTimeout(function() { window.close(); }, 1000);"
   ]
  }
 ],
 "metadata": {
  "coursera": {
   "course_slug": "introduction-tensorflow",
   "graded_item_id": "ml06H",
   "launcher_item_id": "hQF8A"
  },
  "kernelspec": {
   "display_name": "Python 3",
   "language": "python",
   "name": "python3"
  },
  "language_info": {
   "codemirror_mode": {
    "name": "ipython",
    "version": 3
   },
   "file_extension": ".py",
   "mimetype": "text/x-python",
   "name": "python",
   "nbconvert_exporter": "python",
   "pygments_lexer": "ipython3",
   "version": "3.7.1"
  },
  "varInspector": {
   "cols": {
    "lenName": 16,
    "lenType": 16,
    "lenVar": 40
   },
   "kernels_config": {
    "python": {
     "delete_cmd_postfix": "",
     "delete_cmd_prefix": "del ",
     "library": "var_list.py",
     "varRefreshCmd": "print(var_dic_list())"
    },
    "r": {
     "delete_cmd_postfix": ") ",
     "delete_cmd_prefix": "rm(",
     "library": "var_list.r",
     "varRefreshCmd": "cat(var_dic_list()) "
    }
   },
   "types_to_exclude": [
    "module",
    "function",
    "builtin_function_or_method",
    "instance",
    "_Feature"
   ],
   "window_display": false
  }
 },
 "nbformat": 4,
 "nbformat_minor": 1
}
