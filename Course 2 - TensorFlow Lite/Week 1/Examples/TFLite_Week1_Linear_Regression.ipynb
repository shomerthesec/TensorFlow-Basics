{
 "cells": [
  {
   "cell_type": "code",
   "execution_count": 0,
   "metadata": {
    "colab": {},
    "colab_type": "code",
    "id": "zX4Kg8DUTKWO"
   },
   "outputs": [],
   "source": [
    "#@title Licensed under the Apache License, Version 2.0 (the \"License\");\n",
    "# you may not use this file except in compliance with the License.\n",
    "# You may obtain a copy of the License at\n",
    "#\n",
    "# https://www.apache.org/licenses/LICENSE-2.0\n",
    "#\n",
    "# Unless required by applicable law or agreed to in writing, software\n",
    "# distributed under the License is distributed on an \"AS IS\" BASIS,\n",
    "# WITHOUT WARRANTIES OR CONDITIONS OF ANY KIND, either express or implied.\n",
    "# See the License for the specific language governing permissions and\n",
    "# limitations under the License."
   ]
  },
  {
   "cell_type": "markdown",
   "metadata": {
    "colab_type": "text",
    "id": "Za8-Nr5k11fh"
   },
   "source": [
    "##### Copyright 2018 The TensorFlow Authors."
   ]
  },
  {
   "cell_type": "code",
   "execution_count": null,
   "metadata": {
    "cellView": "form",
    "colab": {},
    "colab_type": "code",
    "id": "Eq10uEbw0E4l"
   },
   "outputs": [],
   "source": [
    "#@title Licensed under the Apache License, Version 2.0 (the \"License\");\n",
    "# you may not use this file except in compliance with the License.\n",
    "# You may obtain a copy of the License at\n",
    "#\n",
    "# https://www.apache.org/licenses/LICENSE-2.0\n",
    "#\n",
    "# Unless required by applicable law or agreed to in writing, software\n",
    "# distributed under the License is distributed on an \"AS IS\" BASIS,\n",
    "# WITHOUT WARRANTIES OR CONDITIONS OF ANY KIND, either express or implied.\n",
    "# See the License for the specific language governing permissions and\n",
    "# limitations under the License."
   ]
  },
  {
   "cell_type": "markdown",
   "metadata": {
    "colab_type": "text",
    "id": "UysiGN3tGQHY"
   },
   "source": [
    "# Running TFLite models"
   ]
  },
  {
   "cell_type": "markdown",
   "metadata": {
    "colab_type": "text",
    "id": "2hOrvdmswy5O"
   },
   "source": [
    "<table class=\"tfo-notebook-buttons\" align=\"left\">\n",
    "  <td>\n",
    "    <a target=\"_blank\" href=\"https://colab.research.google.com/github/lmoroney/dlaicourse/blob/master/TensorFlow%20Deployment/Course%202%20-%20TensorFlow%20Lite/Week%201/Examples/TFLite_Week1_Linear_Regression.ipynb\">\n",
    "    <img src=\"https://www.tensorflow.org/images/colab_logo_32px.png\" />\n",
    "    Run in Google Colab</a>\n",
    "  </td>\n",
    "  <td>\n",
    "    <a target=\"_blank\" href=\"https://github.com/lmoroney/dlaicourse/blob/master/TensorFlow%20Deployment/Course%202%20-%20TensorFlow%20Lite/Week%201/Examples/TFLite_Week1_Linear_Regression.ipynb\">\n",
    "    <img src=\"https://www.tensorflow.org/images/GitHub-Mark-32px.png\" />\n",
    "    View source on GitHub</a>\n",
    "  </td>\n",
    "</table>"
   ]
  },
  {
   "cell_type": "markdown",
   "metadata": {
    "colab_type": "text",
    "id": "W-VhTkyTGcaQ"
   },
   "source": [
    "## Setup"
   ]
  },
  {
   "cell_type": "code",
   "execution_count": null,
   "metadata": {
    "colab": {},
    "colab_type": "code",
    "id": "Ll4ii2J9Fea_"
   },
   "outputs": [],
   "source": [
    "try:\n",
    "    %tensorflow_version 2.x\n",
    "except:\n",
    "    pass"
   ]
  },
  {
   "cell_type": "code",
   "execution_count": 1,
   "metadata": {
    "ExecuteTime": {
     "end_time": "2020-06-30T21:07:26.119278Z",
     "start_time": "2020-06-30T21:07:20.360920Z"
    },
    "colab": {},
    "colab_type": "code",
    "id": "dy4BcTjBFTWx"
   },
   "outputs": [
    {
     "name": "stdout",
     "output_type": "stream",
     "text": [
      "• Using TensorFlow Version: 2.0.0\n"
     ]
    }
   ],
   "source": [
    "import pathlib\n",
    "import numpy as np\n",
    "import matplotlib.pyplot as plt\n",
    "\n",
    "import tensorflow as tf\n",
    "\n",
    "print('\\u2022 Using TensorFlow Version:', tf.__version__)"
   ]
  },
  {
   "cell_type": "markdown",
   "metadata": {
    "colab_type": "text",
    "id": "ceibQLDeGhI4"
   },
   "source": [
    "## Create a Basic Model of the Form y = mx + c"
   ]
  },
  {
   "cell_type": "code",
   "execution_count": 2,
   "metadata": {
    "ExecuteTime": {
     "end_time": "2020-06-30T21:07:30.095533Z",
     "start_time": "2020-06-30T21:07:26.130276Z"
    },
    "colab": {},
    "colab_type": "code",
    "id": "YIBCsjQNF46Z"
   },
   "outputs": [
    {
     "name": "stdout",
     "output_type": "stream",
     "text": [
      "Train on 6 samples\n",
      "Epoch 1/200\n",
      "WARNING:tensorflow:Entity <function Function._initialize_uninitialized_variables.<locals>.initialize_variables at 0x0000024BCBF9A5E8> could not be transformed and will be executed as-is. Please report this to the AutoGraph team. When filing the bug, set the verbosity to 10 (on Linux, `export AUTOGRAPH_VERBOSITY=10`) and attach the full output. Cause: module 'gast' has no attribute 'Num'\n",
      "WARNING: Entity <function Function._initialize_uninitialized_variables.<locals>.initialize_variables at 0x0000024BCBF9A5E8> could not be transformed and will be executed as-is. Please report this to the AutoGraph team. When filing the bug, set the verbosity to 10 (on Linux, `export AUTOGRAPH_VERBOSITY=10`) and attach the full output. Cause: module 'gast' has no attribute 'Num'\n",
      "6/6 [==============================] - 1s 155ms/sample - loss: 3.0351\n",
      "Epoch 2/200\n",
      "6/6 [==============================] - 0s 2ms/sample - loss: 2.5441\n",
      "Epoch 3/200\n",
      "6/6 [==============================] - 0s 2ms/sample - loss: 2.1545\n",
      "Epoch 4/200\n",
      "6/6 [==============================] - 0s 2ms/sample - loss: 1.8449\n",
      "Epoch 5/200\n",
      "6/6 [==============================] - 0s 2ms/sample - loss: 1.5983\n",
      "Epoch 6/200\n",
      "6/6 [==============================] - 0s 2ms/sample - loss: 1.4012\n",
      "Epoch 7/200\n",
      "6/6 [==============================] - 0s 2ms/sample - loss: 1.2432\n",
      "Epoch 8/200\n",
      "6/6 [==============================] - 0s 2ms/sample - loss: 1.1160\n",
      "Epoch 9/200\n",
      "6/6 [==============================] - 0s 2ms/sample - loss: 1.0131\n",
      "Epoch 10/200\n",
      "6/6 [==============================] - 0s 2ms/sample - loss: 0.9294\n",
      "Epoch 11/200\n",
      "6/6 [==============================] - 0s 2ms/sample - loss: 0.8608\n",
      "Epoch 12/200\n",
      "6/6 [==============================] - 0s 2ms/sample - loss: 0.8041\n",
      "Epoch 13/200\n",
      "6/6 [==============================] - 0s 2ms/sample - loss: 0.7570\n",
      "Epoch 14/200\n",
      "6/6 [==============================] - 0s 2ms/sample - loss: 0.7173\n",
      "Epoch 15/200\n",
      "6/6 [==============================] - 0s 2ms/sample - loss: 0.6836\n",
      "Epoch 16/200\n",
      "6/6 [==============================] - 0s 2ms/sample - loss: 0.6546\n",
      "Epoch 17/200\n",
      "6/6 [==============================] - 0s 2ms/sample - loss: 0.6295\n",
      "Epoch 18/200\n",
      "6/6 [==============================] - 0s 2ms/sample - loss: 0.6073\n",
      "Epoch 19/200\n",
      "6/6 [==============================] - 0s 2ms/sample - loss: 0.5875\n",
      "Epoch 20/200\n",
      "6/6 [==============================] - 0s 2ms/sample - loss: 0.5698\n",
      "Epoch 21/200\n",
      "6/6 [==============================] - 0s 2ms/sample - loss: 0.5536\n",
      "Epoch 22/200\n",
      "6/6 [==============================] - 0s 2ms/sample - loss: 0.5386\n",
      "Epoch 23/200\n",
      "6/6 [==============================] - 0s 2ms/sample - loss: 0.5248\n",
      "Epoch 24/200\n",
      "6/6 [==============================] - 0s 2ms/sample - loss: 0.5118\n",
      "Epoch 25/200\n",
      "6/6 [==============================] - 0s 2ms/sample - loss: 0.4996\n",
      "Epoch 26/200\n",
      "6/6 [==============================] - 0s 2ms/sample - loss: 0.4880\n",
      "Epoch 27/200\n",
      "6/6 [==============================] - 0s 2ms/sample - loss: 0.4769\n",
      "Epoch 28/200\n",
      "6/6 [==============================] - 0s 2ms/sample - loss: 0.4662\n",
      "Epoch 29/200\n",
      "6/6 [==============================] - 0s 2ms/sample - loss: 0.4560\n",
      "Epoch 30/200\n",
      "6/6 [==============================] - 0s 2ms/sample - loss: 0.4461\n",
      "Epoch 31/200\n",
      "6/6 [==============================] - 0s 2ms/sample - loss: 0.4366\n",
      "Epoch 32/200\n",
      "6/6 [==============================] - 0s 2ms/sample - loss: 0.4273\n",
      "Epoch 33/200\n",
      "6/6 [==============================] - 0s 2ms/sample - loss: 0.4182\n",
      "Epoch 34/200\n",
      "6/6 [==============================] - 0s 2ms/sample - loss: 0.4094\n",
      "Epoch 35/200\n",
      "6/6 [==============================] - 0s 2ms/sample - loss: 0.4009\n",
      "Epoch 36/200\n",
      "6/6 [==============================] - 0s 2ms/sample - loss: 0.3925\n",
      "Epoch 37/200\n",
      "6/6 [==============================] - 0s 2ms/sample - loss: 0.3844\n",
      "Epoch 38/200\n",
      "6/6 [==============================] - 0s 2ms/sample - loss: 0.3764\n",
      "Epoch 39/200\n",
      "6/6 [==============================] - 0s 2ms/sample - loss: 0.3686\n",
      "Epoch 40/200\n",
      "6/6 [==============================] - 0s 2ms/sample - loss: 0.3610\n",
      "Epoch 41/200\n",
      "6/6 [==============================] - 0s 2ms/sample - loss: 0.3535\n",
      "Epoch 42/200\n",
      "6/6 [==============================] - 0s 2ms/sample - loss: 0.3462\n",
      "Epoch 43/200\n",
      "6/6 [==============================] - 0s 2ms/sample - loss: 0.3391\n",
      "Epoch 44/200\n",
      "6/6 [==============================] - 0s 2ms/sample - loss: 0.3321\n",
      "Epoch 45/200\n",
      "6/6 [==============================] - 0s 2ms/sample - loss: 0.3253\n",
      "Epoch 46/200\n",
      "6/6 [==============================] - 0s 2ms/sample - loss: 0.3186\n",
      "Epoch 47/200\n",
      "6/6 [==============================] - 0s 2ms/sample - loss: 0.3120\n",
      "Epoch 48/200\n",
      "6/6 [==============================] - 0s 2ms/sample - loss: 0.3056\n",
      "Epoch 49/200\n",
      "6/6 [==============================] - 0s 2ms/sample - loss: 0.2993\n",
      "Epoch 50/200\n",
      "6/6 [==============================] - 0s 2ms/sample - loss: 0.2932\n",
      "Epoch 51/200\n",
      "6/6 [==============================] - 0s 2ms/sample - loss: 0.2872\n",
      "Epoch 52/200\n",
      "6/6 [==============================] - 0s 2ms/sample - loss: 0.2813\n",
      "Epoch 53/200\n",
      "6/6 [==============================] - 0s 2ms/sample - loss: 0.2755\n",
      "Epoch 54/200\n",
      "6/6 [==============================] - 0s 2ms/sample - loss: 0.2698\n",
      "Epoch 55/200\n",
      "6/6 [==============================] - 0s 2ms/sample - loss: 0.2643\n",
      "Epoch 56/200\n",
      "6/6 [==============================] - 0s 2ms/sample - loss: 0.2588\n",
      "Epoch 57/200\n",
      "6/6 [==============================] - 0s 2ms/sample - loss: 0.2535\n",
      "Epoch 58/200\n",
      "6/6 [==============================] - 0s 2ms/sample - loss: 0.2483\n",
      "Epoch 59/200\n",
      "6/6 [==============================] - 0s 2ms/sample - loss: 0.2432\n",
      "Epoch 60/200\n",
      "6/6 [==============================] - 0s 2ms/sample - loss: 0.2382\n",
      "Epoch 61/200\n",
      "6/6 [==============================] - 0s 2ms/sample - loss: 0.2333\n",
      "Epoch 62/200\n",
      "6/6 [==============================] - 0s 2ms/sample - loss: 0.2285\n",
      "Epoch 63/200\n",
      "6/6 [==============================] - 0s 2ms/sample - loss: 0.2238\n",
      "Epoch 64/200\n",
      "6/6 [==============================] - 0s 2ms/sample - loss: 0.2192\n",
      "Epoch 65/200\n",
      "6/6 [==============================] - 0s 2ms/sample - loss: 0.2147\n",
      "Epoch 66/200\n",
      "6/6 [==============================] - 0s 2ms/sample - loss: 0.2103\n",
      "Epoch 67/200\n",
      "6/6 [==============================] - 0s 2ms/sample - loss: 0.2060\n",
      "Epoch 68/200\n",
      "6/6 [==============================] - 0s 2ms/sample - loss: 0.2018\n",
      "Epoch 69/200\n",
      "6/6 [==============================] - 0s 2ms/sample - loss: 0.1976\n",
      "Epoch 70/200\n",
      "6/6 [==============================] - 0s 2ms/sample - loss: 0.1936\n",
      "Epoch 71/200\n",
      "6/6 [==============================] - 0s 2ms/sample - loss: 0.1896\n",
      "Epoch 72/200\n",
      "6/6 [==============================] - 0s 2ms/sample - loss: 0.1857\n",
      "Epoch 73/200\n",
      "6/6 [==============================] - 0s 2ms/sample - loss: 0.1819\n",
      "Epoch 74/200\n",
      "6/6 [==============================] - 0s 2ms/sample - loss: 0.1782\n",
      "Epoch 75/200\n",
      "6/6 [==============================] - 0s 2ms/sample - loss: 0.1745\n",
      "Epoch 76/200\n",
      "6/6 [==============================] - 0s 2ms/sample - loss: 0.1709\n",
      "Epoch 77/200\n",
      "6/6 [==============================] - 0s 2ms/sample - loss: 0.1674\n",
      "Epoch 78/200\n",
      "6/6 [==============================] - 0s 2ms/sample - loss: 0.1640\n",
      "Epoch 79/200\n",
      "6/6 [==============================] - 0s 2ms/sample - loss: 0.1606\n",
      "Epoch 80/200\n",
      "6/6 [==============================] - 0s 2ms/sample - loss: 0.1573\n",
      "Epoch 81/200\n",
      "6/6 [==============================] - 0s 2ms/sample - loss: 0.1541\n",
      "Epoch 82/200\n",
      "6/6 [==============================] - 0s 2ms/sample - loss: 0.1509\n",
      "Epoch 83/200\n",
      "6/6 [==============================] - 0s 2ms/sample - loss: 0.1478\n",
      "Epoch 84/200\n",
      "6/6 [==============================] - 0s 2ms/sample - loss: 0.1448\n",
      "Epoch 85/200\n",
      "6/6 [==============================] - 0s 2ms/sample - loss: 0.1418\n",
      "Epoch 86/200\n",
      "6/6 [==============================] - 0s 2ms/sample - loss: 0.1389\n",
      "Epoch 87/200\n",
      "6/6 [==============================] - 0s 2ms/sample - loss: 0.1360\n",
      "Epoch 88/200\n",
      "6/6 [==============================] - 0s 2ms/sample - loss: 0.1332\n",
      "Epoch 89/200\n",
      "6/6 [==============================] - 0s 2ms/sample - loss: 0.1305\n",
      "Epoch 90/200\n",
      "6/6 [==============================] - 0s 2ms/sample - loss: 0.1278\n",
      "Epoch 91/200\n",
      "6/6 [==============================] - 0s 2ms/sample - loss: 0.1252\n",
      "Epoch 92/200\n",
      "6/6 [==============================] - 0s 2ms/sample - loss: 0.1226\n"
     ]
    },
    {
     "name": "stdout",
     "output_type": "stream",
     "text": [
      "Epoch 93/200\n",
      "6/6 [==============================] - 0s 2ms/sample - loss: 0.1201\n",
      "Epoch 94/200\n",
      "6/6 [==============================] - 0s 2ms/sample - loss: 0.1176\n",
      "Epoch 95/200\n",
      "6/6 [==============================] - 0s 2ms/sample - loss: 0.1152\n",
      "Epoch 96/200\n",
      "6/6 [==============================] - 0s 2ms/sample - loss: 0.1128\n",
      "Epoch 97/200\n",
      "6/6 [==============================] - 0s 2ms/sample - loss: 0.1105\n",
      "Epoch 98/200\n",
      "6/6 [==============================] - 0s 2ms/sample - loss: 0.1083\n",
      "Epoch 99/200\n",
      "6/6 [==============================] - 0s 2ms/sample - loss: 0.1060\n",
      "Epoch 100/200\n",
      "6/6 [==============================] - 0s 2ms/sample - loss: 0.1039\n",
      "Epoch 101/200\n",
      "6/6 [==============================] - 0s 2ms/sample - loss: 0.1017\n",
      "Epoch 102/200\n",
      "6/6 [==============================] - 0s 2ms/sample - loss: 0.0996\n",
      "Epoch 103/200\n",
      "6/6 [==============================] - 0s 2ms/sample - loss: 0.0976\n",
      "Epoch 104/200\n",
      "6/6 [==============================] - 0s 2ms/sample - loss: 0.0956\n",
      "Epoch 105/200\n",
      "6/6 [==============================] - 0s 2ms/sample - loss: 0.0936\n",
      "Epoch 106/200\n",
      "6/6 [==============================] - 0s 2ms/sample - loss: 0.0917\n",
      "Epoch 107/200\n",
      "6/6 [==============================] - 0s 2ms/sample - loss: 0.0898\n",
      "Epoch 108/200\n",
      "6/6 [==============================] - 0s 2ms/sample - loss: 0.0880\n",
      "Epoch 109/200\n",
      "6/6 [==============================] - 0s 2ms/sample - loss: 0.0862\n",
      "Epoch 110/200\n",
      "6/6 [==============================] - 0s 2ms/sample - loss: 0.0844\n",
      "Epoch 111/200\n",
      "6/6 [==============================] - 0s 2ms/sample - loss: 0.0827\n",
      "Epoch 112/200\n",
      "6/6 [==============================] - 0s 2ms/sample - loss: 0.0810\n",
      "Epoch 113/200\n",
      "6/6 [==============================] - 0s 2ms/sample - loss: 0.0793\n",
      "Epoch 114/200\n",
      "6/6 [==============================] - 0s 2ms/sample - loss: 0.0777\n",
      "Epoch 115/200\n",
      "6/6 [==============================] - 0s 2ms/sample - loss: 0.0761\n",
      "Epoch 116/200\n",
      "6/6 [==============================] - 0s 2ms/sample - loss: 0.0745\n",
      "Epoch 117/200\n",
      "6/6 [==============================] - 0s 2ms/sample - loss: 0.0730\n",
      "Epoch 118/200\n",
      "6/6 [==============================] - 0s 2ms/sample - loss: 0.0715\n",
      "Epoch 119/200\n",
      "6/6 [==============================] - 0s 2ms/sample - loss: 0.0700\n",
      "Epoch 120/200\n",
      "6/6 [==============================] - 0s 2ms/sample - loss: 0.0686\n",
      "Epoch 121/200\n",
      "6/6 [==============================] - 0s 2ms/sample - loss: 0.0672\n",
      "Epoch 122/200\n",
      "6/6 [==============================] - 0s 2ms/sample - loss: 0.0658\n",
      "Epoch 123/200\n",
      "6/6 [==============================] - 0s 2ms/sample - loss: 0.0644\n",
      "Epoch 124/200\n",
      "6/6 [==============================] - 0s 2ms/sample - loss: 0.0631\n",
      "Epoch 125/200\n",
      "6/6 [==============================] - 0s 2ms/sample - loss: 0.0618\n",
      "Epoch 126/200\n",
      "6/6 [==============================] - 0s 2ms/sample - loss: 0.0605\n",
      "Epoch 127/200\n",
      "6/6 [==============================] - 0s 2ms/sample - loss: 0.0593\n",
      "Epoch 128/200\n",
      "6/6 [==============================] - 0s 2ms/sample - loss: 0.0581\n",
      "Epoch 129/200\n",
      "6/6 [==============================] - 0s 2ms/sample - loss: 0.0569\n",
      "Epoch 130/200\n",
      "6/6 [==============================] - 0s 2ms/sample - loss: 0.0557\n",
      "Epoch 131/200\n",
      "6/6 [==============================] - 0s 2ms/sample - loss: 0.0546\n",
      "Epoch 132/200\n",
      "6/6 [==============================] - 0s 2ms/sample - loss: 0.0535\n",
      "Epoch 133/200\n",
      "6/6 [==============================] - 0s 2ms/sample - loss: 0.0524\n",
      "Epoch 134/200\n",
      "6/6 [==============================] - 0s 2ms/sample - loss: 0.0513\n",
      "Epoch 135/200\n",
      "6/6 [==============================] - 0s 2ms/sample - loss: 0.0502\n",
      "Epoch 136/200\n",
      "6/6 [==============================] - 0s 2ms/sample - loss: 0.0492\n",
      "Epoch 137/200\n",
      "6/6 [==============================] - 0s 2ms/sample - loss: 0.0482\n",
      "Epoch 138/200\n",
      "6/6 [==============================] - 0s 2ms/sample - loss: 0.0472\n",
      "Epoch 139/200\n",
      "6/6 [==============================] - 0s 2ms/sample - loss: 0.0462\n",
      "Epoch 140/200\n",
      "6/6 [==============================] - 0s 2ms/sample - loss: 0.0453\n",
      "Epoch 141/200\n",
      "6/6 [==============================] - 0s 2ms/sample - loss: 0.0443\n",
      "Epoch 142/200\n",
      "6/6 [==============================] - 0s 2ms/sample - loss: 0.0434\n",
      "Epoch 143/200\n",
      "6/6 [==============================] - 0s 2ms/sample - loss: 0.0425\n",
      "Epoch 144/200\n",
      "6/6 [==============================] - 0s 2ms/sample - loss: 0.0417\n",
      "Epoch 145/200\n",
      "6/6 [==============================] - 0s 2ms/sample - loss: 0.0408\n",
      "Epoch 146/200\n",
      "6/6 [==============================] - 0s 2ms/sample - loss: 0.0400\n",
      "Epoch 147/200\n",
      "6/6 [==============================] - 0s 2ms/sample - loss: 0.0392\n",
      "Epoch 148/200\n",
      "6/6 [==============================] - 0s 2ms/sample - loss: 0.0384\n",
      "Epoch 149/200\n",
      "6/6 [==============================] - 0s 2ms/sample - loss: 0.0376\n",
      "Epoch 150/200\n",
      "6/6 [==============================] - 0s 2ms/sample - loss: 0.0368\n",
      "Epoch 151/200\n",
      "6/6 [==============================] - 0s 2ms/sample - loss: 0.0360\n",
      "Epoch 152/200\n",
      "6/6 [==============================] - 0s 2ms/sample - loss: 0.0353\n",
      "Epoch 153/200\n",
      "6/6 [==============================] - 0s 2ms/sample - loss: 0.0346\n",
      "Epoch 154/200\n",
      "6/6 [==============================] - 0s 2ms/sample - loss: 0.0339\n",
      "Epoch 155/200\n",
      "6/6 [==============================] - 0s 2ms/sample - loss: 0.0332\n",
      "Epoch 156/200\n",
      "6/6 [==============================] - 0s 2ms/sample - loss: 0.0325\n",
      "Epoch 157/200\n",
      "6/6 [==============================] - 0s 2ms/sample - loss: 0.0318\n",
      "Epoch 158/200\n",
      "6/6 [==============================] - 0s 2ms/sample - loss: 0.0312\n",
      "Epoch 159/200\n",
      "6/6 [==============================] - 0s 2ms/sample - loss: 0.0305\n",
      "Epoch 160/200\n",
      "6/6 [==============================] - 0s 2ms/sample - loss: 0.0299\n",
      "Epoch 161/200\n",
      "6/6 [==============================] - 0s 2ms/sample - loss: 0.0293\n",
      "Epoch 162/200\n",
      "6/6 [==============================] - 0s 2ms/sample - loss: 0.0287\n",
      "Epoch 163/200\n",
      "6/6 [==============================] - 0s 2ms/sample - loss: 0.0281\n",
      "Epoch 164/200\n",
      "6/6 [==============================] - 0s 2ms/sample - loss: 0.0275\n",
      "Epoch 165/200\n",
      "6/6 [==============================] - 0s 2ms/sample - loss: 0.0269\n",
      "Epoch 166/200\n",
      "6/6 [==============================] - 0s 2ms/sample - loss: 0.0264\n",
      "Epoch 167/200\n",
      "6/6 [==============================] - 0s 2ms/sample - loss: 0.0259\n",
      "Epoch 168/200\n",
      "6/6 [==============================] - 0s 2ms/sample - loss: 0.0253\n",
      "Epoch 169/200\n",
      "6/6 [==============================] - 0s 2ms/sample - loss: 0.0248\n",
      "Epoch 170/200\n",
      "6/6 [==============================] - 0s 2ms/sample - loss: 0.0243\n",
      "Epoch 171/200\n",
      "6/6 [==============================] - 0s 2ms/sample - loss: 0.0238\n",
      "Epoch 172/200\n",
      "6/6 [==============================] - 0s 2ms/sample - loss: 0.0233\n",
      "Epoch 173/200\n",
      "6/6 [==============================] - 0s 2ms/sample - loss: 0.0228\n",
      "Epoch 174/200\n",
      "6/6 [==============================] - 0s 2ms/sample - loss: 0.0224\n",
      "Epoch 175/200\n",
      "6/6 [==============================] - 0s 2ms/sample - loss: 0.0219\n",
      "Epoch 176/200\n",
      "6/6 [==============================] - 0s 2ms/sample - loss: 0.0214\n",
      "Epoch 177/200\n",
      "6/6 [==============================] - 0s 2ms/sample - loss: 0.0210\n",
      "Epoch 178/200\n",
      "6/6 [==============================] - 0s 2ms/sample - loss: 0.0206\n",
      "Epoch 179/200\n",
      "6/6 [==============================] - 0s 2ms/sample - loss: 0.0202\n",
      "Epoch 180/200\n",
      "6/6 [==============================] - 0s 2ms/sample - loss: 0.0197\n",
      "Epoch 181/200\n",
      "6/6 [==============================] - 0s 2ms/sample - loss: 0.0193\n",
      "Epoch 182/200\n",
      "6/6 [==============================] - 0s 2ms/sample - loss: 0.0189\n",
      "Epoch 183/200\n",
      "6/6 [==============================] - 0s 2ms/sample - loss: 0.0185\n",
      "Epoch 184/200\n",
      "6/6 [==============================] - 0s 2ms/sample - loss: 0.0182\n",
      "Epoch 185/200\n",
      "6/6 [==============================] - 0s 2ms/sample - loss: 0.0178\n",
      "Epoch 186/200\n",
      "6/6 [==============================] - 0s 2ms/sample - loss: 0.0174\n",
      "Epoch 187/200\n",
      "6/6 [==============================] - 0s 2ms/sample - loss: 0.0171\n",
      "Epoch 188/200\n",
      "6/6 [==============================] - 0s 2ms/sample - loss: 0.0167\n",
      "Epoch 189/200\n",
      "6/6 [==============================] - 0s 2ms/sample - loss: 0.0164\n",
      "Epoch 190/200\n",
      "6/6 [==============================] - 0s 2ms/sample - loss: 0.0160\n",
      "Epoch 191/200\n",
      "6/6 [==============================] - 0s 2ms/sample - loss: 0.0157\n",
      "Epoch 192/200\n",
      "6/6 [==============================] - 0s 2ms/sample - loss: 0.0154\n"
     ]
    },
    {
     "name": "stdout",
     "output_type": "stream",
     "text": [
      "Epoch 193/200\n",
      "6/6 [==============================] - 0s 2ms/sample - loss: 0.0151\n",
      "Epoch 194/200\n",
      "6/6 [==============================] - 0s 2ms/sample - loss: 0.0148\n",
      "Epoch 195/200\n",
      "6/6 [==============================] - 0s 2ms/sample - loss: 0.0145\n",
      "Epoch 196/200\n",
      "6/6 [==============================] - 0s 2ms/sample - loss: 0.0142\n",
      "Epoch 197/200\n",
      "6/6 [==============================] - 0s 2ms/sample - loss: 0.0139\n",
      "Epoch 198/200\n",
      "6/6 [==============================] - 0s 2ms/sample - loss: 0.0136\n",
      "Epoch 199/200\n",
      "6/6 [==============================] - 0s 2ms/sample - loss: 0.0133\n",
      "Epoch 200/200\n",
      "6/6 [==============================] - 0s 2ms/sample - loss: 0.0130\n"
     ]
    },
    {
     "data": {
      "text/plain": [
       "<tensorflow.python.keras.callbacks.History at 0x24bcbf7a288>"
      ]
     },
     "execution_count": 2,
     "metadata": {},
     "output_type": "execute_result"
    }
   ],
   "source": [
    "# Create a simple Keras model.\n",
    "x = [-1, 0, 1, 2, 3, 4]\n",
    "y = [-3, -1, 1, 3, 5, 7]\n",
    "\n",
    "model = tf.keras.models.Sequential([\n",
    "        tf.keras.layers.Dense(units=1, input_shape=[1])\n",
    "])\n",
    "\n",
    "model.compile(optimizer='sgd',\n",
    "              loss='mean_squared_error')\n",
    "\n",
    "model.fit(x, y, epochs=200)"
   ]
  },
  {
   "cell_type": "markdown",
   "metadata": {
    "colab_type": "text",
    "id": "EjsB-QICGt6L"
   },
   "source": [
    "## Generate a SavedModel"
   ]
  },
  {
   "cell_type": "code",
   "execution_count": 10,
   "metadata": {
    "ExecuteTime": {
     "end_time": "2020-06-30T21:09:59.587729Z",
     "start_time": "2020-06-30T21:09:58.557221Z"
    },
    "colab": {},
    "colab_type": "code",
    "id": "a9xcbK7QHOfm"
   },
   "outputs": [
    {
     "name": "stdout",
     "output_type": "stream",
     "text": [
      "WARNING:tensorflow:Entity <function Function._initialize_uninitialized_variables.<locals>.initialize_variables at 0x0000024BCDA5CB88> could not be transformed and will be executed as-is. Please report this to the AutoGraph team. When filing the bug, set the verbosity to 10 (on Linux, `export AUTOGRAPH_VERBOSITY=10`) and attach the full output. Cause: module 'gast' has no attribute 'Num'\n",
      "WARNING: Entity <function Function._initialize_uninitialized_variables.<locals>.initialize_variables at 0x0000024BCDA5CB88> could not be transformed and will be executed as-is. Please report this to the AutoGraph team. When filing the bug, set the verbosity to 10 (on Linux, `export AUTOGRAPH_VERBOSITY=10`) and attach the full output. Cause: module 'gast' has no attribute 'Num'\n",
      "WARNING:tensorflow:Entity <function Function._initialize_uninitialized_variables.<locals>.initialize_variables at 0x0000024BCDA87288> could not be transformed and will be executed as-is. Please report this to the AutoGraph team. When filing the bug, set the verbosity to 10 (on Linux, `export AUTOGRAPH_VERBOSITY=10`) and attach the full output. Cause: module 'gast' has no attribute 'Num'\n",
      "WARNING: Entity <function Function._initialize_uninitialized_variables.<locals>.initialize_variables at 0x0000024BCDA87288> could not be transformed and will be executed as-is. Please report this to the AutoGraph team. When filing the bug, set the verbosity to 10 (on Linux, `export AUTOGRAPH_VERBOSITY=10`) and attach the full output. Cause: module 'gast' has no attribute 'Num'\n",
      "WARNING:tensorflow:Entity <function Function._initialize_uninitialized_variables.<locals>.initialize_variables at 0x0000024BCF6B2CA8> could not be transformed and will be executed as-is. Please report this to the AutoGraph team. When filing the bug, set the verbosity to 10 (on Linux, `export AUTOGRAPH_VERBOSITY=10`) and attach the full output. Cause: module 'gast' has no attribute 'Num'\n",
      "WARNING: Entity <function Function._initialize_uninitialized_variables.<locals>.initialize_variables at 0x0000024BCF6B2CA8> could not be transformed and will be executed as-is. Please report this to the AutoGraph team. When filing the bug, set the verbosity to 10 (on Linux, `export AUTOGRAPH_VERBOSITY=10`) and attach the full output. Cause: module 'gast' has no attribute 'Num'\n",
      "WARNING:tensorflow:Entity <function Function._initialize_uninitialized_variables.<locals>.initialize_variables at 0x0000024BCDAA9438> could not be transformed and will be executed as-is. Please report this to the AutoGraph team. When filing the bug, set the verbosity to 10 (on Linux, `export AUTOGRAPH_VERBOSITY=10`) and attach the full output. Cause: module 'gast' has no attribute 'Num'\n",
      "WARNING: Entity <function Function._initialize_uninitialized_variables.<locals>.initialize_variables at 0x0000024BCDAA9438> could not be transformed and will be executed as-is. Please report this to the AutoGraph team. When filing the bug, set the verbosity to 10 (on Linux, `export AUTOGRAPH_VERBOSITY=10`) and attach the full output. Cause: module 'gast' has no attribute 'Num'\n",
      "WARNING:tensorflow:Entity <function Function._initialize_uninitialized_variables.<locals>.initialize_variables at 0x0000024BCF914CA8> could not be transformed and will be executed as-is. Please report this to the AutoGraph team. When filing the bug, set the verbosity to 10 (on Linux, `export AUTOGRAPH_VERBOSITY=10`) and attach the full output. Cause: module 'gast' has no attribute 'Num'\n",
      "WARNING: Entity <function Function._initialize_uninitialized_variables.<locals>.initialize_variables at 0x0000024BCF914CA8> could not be transformed and will be executed as-is. Please report this to the AutoGraph team. When filing the bug, set the verbosity to 10 (on Linux, `export AUTOGRAPH_VERBOSITY=10`) and attach the full output. Cause: module 'gast' has no attribute 'Num'\n",
      "WARNING:tensorflow:Entity <function canonicalize_signatures.<locals>.signature_wrapper at 0x0000024BCDAA9CA8> could not be transformed and will be executed as-is. Please report this to the AutoGraph team. When filing the bug, set the verbosity to 10 (on Linux, `export AUTOGRAPH_VERBOSITY=10`) and attach the full output. Cause: Bad argument number for Name: 3, expecting 4\n",
      "WARNING: Entity <function canonicalize_signatures.<locals>.signature_wrapper at 0x0000024BCDAA9CA8> could not be transformed and will be executed as-is. Please report this to the AutoGraph team. When filing the bug, set the verbosity to 10 (on Linux, `export AUTOGRAPH_VERBOSITY=10`) and attach the full output. Cause: Bad argument number for Name: 3, expecting 4\n",
      "WARNING:tensorflow:Entity <function Function._initialize_uninitialized_variables.<locals>.initialize_variables at 0x0000024BCF795798> could not be transformed and will be executed as-is. Please report this to the AutoGraph team. When filing the bug, set the verbosity to 10 (on Linux, `export AUTOGRAPH_VERBOSITY=10`) and attach the full output. Cause: module 'gast' has no attribute 'Num'\n",
      "WARNING: Entity <function Function._initialize_uninitialized_variables.<locals>.initialize_variables at 0x0000024BCF795798> could not be transformed and will be executed as-is. Please report this to the AutoGraph team. When filing the bug, set the verbosity to 10 (on Linux, `export AUTOGRAPH_VERBOSITY=10`) and attach the full output. Cause: module 'gast' has no attribute 'Num'\n",
      "INFO:tensorflow:Assets written to: saved_model\\assets\n"
     ]
    }
   ],
   "source": [
    "export_dir = 'saved_model'\n",
    "tf.saved_model.save(model, export_dir)"
   ]
  },
  {
   "cell_type": "markdown",
   "metadata": {
    "colab_type": "text",
    "id": "RRtsNwkiGxcO"
   },
   "source": [
    "## Convert the SavedModel to TFLite"
   ]
  },
  {
   "cell_type": "code",
   "execution_count": 11,
   "metadata": {
    "ExecuteTime": {
     "end_time": "2020-06-30T21:10:29.106211Z",
     "start_time": "2020-06-30T21:10:21.352811Z"
    },
    "colab": {},
    "colab_type": "code",
    "id": "TtM8yKTVTpD3"
   },
   "outputs": [],
   "source": [
    "# Convert the model.\n",
    "converter = tf.lite.TFLiteConverter.from_saved_model(export_dir)\n",
    "tflite_model = converter.convert()"
   ]
  },
  {
   "cell_type": "code",
   "execution_count": 12,
   "metadata": {
    "ExecuteTime": {
     "end_time": "2020-06-30T21:11:01.806448Z",
     "start_time": "2020-06-30T21:11:01.798452Z"
    },
    "colab": {},
    "colab_type": "code",
    "id": "4idYulcNHTdO"
   },
   "outputs": [
    {
     "data": {
      "text/plain": [
       "780"
      ]
     },
     "execution_count": 12,
     "metadata": {},
     "output_type": "execute_result"
    }
   ],
   "source": [
    "tflite_model_file = pathlib.Path('model.tflite')\n",
    "tflite_model_file.write_bytes(tflite_model)"
   ]
  },
  {
   "cell_type": "markdown",
   "metadata": {
    "colab_type": "text",
    "id": "HgGvp2yBG25Q"
   },
   "source": [
    "## Initialize the TFLite Interpreter To Try It Out"
   ]
  },
  {
   "cell_type": "code",
   "execution_count": 13,
   "metadata": {
    "ExecuteTime": {
     "end_time": "2020-06-30T21:14:45.488632Z",
     "start_time": "2020-06-30T21:14:45.449650Z"
    },
    "colab": {},
    "colab_type": "code",
    "id": "DOt94wIWF8m7"
   },
   "outputs": [],
   "source": [
    "# Load TFLite model and allocate tensors.\n",
    "interpreter = tf.lite.Interpreter(model_content=tflite_model)\n",
    "interpreter.allocate_tensors()\n",
    "\n",
    "\n",
    "# Get input and output tensors.\n",
    "input_details = interpreter.get_input_details()\n",
    "output_details = interpreter.get_output_details()"
   ]
  },
  {
   "cell_type": "code",
   "execution_count": 14,
   "metadata": {
    "ExecuteTime": {
     "end_time": "2020-06-30T21:14:46.673679Z",
     "start_time": "2020-06-30T21:14:46.575720Z"
    },
    "colab": {},
    "colab_type": "code",
    "id": "JGYkEK08F8qK"
   },
   "outputs": [],
   "source": [
    "# Test the TensorFlow Lite model on random input data.\n",
    "input_shape = input_details[0]['shape']\n",
    "inputs, outputs = [], []\n",
    "for _ in range(100):\n",
    "    input_data = np.array(np.random.random_sample(input_shape), dtype=np.float32)\n",
    "    interpreter.set_tensor(input_details[0]['index'], input_data)\n",
    "    \n",
    "    interpreter.invoke()\n",
    "    tflite_results = interpreter.get_tensor(output_details[0]['index'])\n",
    "    \n",
    "    # Test the TensorFlow model on random input data.\n",
    "    tf_results = model(tf.constant(input_data))\n",
    "    output_data = np.array(tf_results)\n",
    "    \n",
    "    inputs.append(input_data[0][0])\n",
    "    outputs.append(output_data[0][0])"
   ]
  },
  {
   "cell_type": "markdown",
   "metadata": {
    "colab_type": "text",
    "id": "t1gQGH1KWAgW"
   },
   "source": [
    "## Visualize the Model"
   ]
  },
  {
   "cell_type": "code",
   "execution_count": 15,
   "metadata": {
    "ExecuteTime": {
     "end_time": "2020-06-30T21:14:51.815306Z",
     "start_time": "2020-06-30T21:14:51.538435Z"
    },
    "colab": {},
    "colab_type": "code",
    "id": "ccvQ1mEJVrqo"
   },
   "outputs": [
    {
     "data": {
      "image/png": "[encoded data removed]",
      "text/plain": [
       "<Figure size 432x288 with 1 Axes>"
      ]
     },
     "metadata": {
      "needs_background": "light"
     },
     "output_type": "display_data"
    }
   ],
   "source": [
    "%matplotlib inline\n",
    "\n",
    "plt.plot(inputs, outputs, 'r')\n",
    "plt.show()"
   ]
  },
  {
   "cell_type": "markdown",
   "metadata": {
    "colab_type": "text",
    "id": "WbugMH6yKvtd"
   },
   "source": [
    "## Download the TFLite Model File\n",
    "\n",
    "If you are running this notebook in a Colab, you can run the cell below to download the tflite model to your local disk. \n",
    "\n",
    "**Note**: If the file does not download when you run the cell, try running the cell a second time."
   ]
  },
  {
   "cell_type": "code",
   "execution_count": null,
   "metadata": {
    "colab": {},
    "colab_type": "code",
    "id": "FOAIMETeJmkc"
   },
   "outputs": [],
   "source": [
    "try:\n",
    "    from google.colab import files\n",
    "    files.download(tflite_model_file)\n",
    "except:\n",
    "    pass"
   ]
  }
 ],
 "metadata": {
  "accelerator": "GPU",
  "colab": {
   "collapsed_sections": [],
   "name": "TFLite_Week1_Linear_Regression.ipynb",
   "private_outputs": true,
   "provenance": [],
   "toc_visible": true
  },
  "kernelspec": {
   "display_name": "Python 3",
   "language": "python",
   "name": "python3"
  },
  "language_info": {
   "codemirror_mode": {
    "name": "ipython",
    "version": 3
   },
   "file_extension": ".py",
   "mimetype": "text/x-python",
   "name": "python",
   "nbconvert_exporter": "python",
   "pygments_lexer": "ipython3",
   "version": "3.7.7"
  },
  "varInspector": {
   "cols": {
    "lenName": 16,
    "lenType": 16,
    "lenVar": 40
   },
   "kernels_config": {
    "python": {
     "delete_cmd_postfix": "",
     "delete_cmd_prefix": "del ",
     "library": "var_list.py",
     "varRefreshCmd": "print(var_dic_list())"
    },
    "r": {
     "delete_cmd_postfix": ") ",
     "delete_cmd_prefix": "rm(",
     "library": "var_list.r",
     "varRefreshCmd": "cat(var_dic_list()) "
    }
   },
   "types_to_exclude": [
    "module",
    "function",
    "builtin_function_or_method",
    "instance",
    "_Feature"
   ],
   "window_display": false
  }
 },
 "nbformat": 4,
 "nbformat_minor": 1
}
